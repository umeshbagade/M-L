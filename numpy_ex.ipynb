{
  "nbformat": 4,
  "nbformat_minor": 0,
  "metadata": {
    "colab": {
      "name": "Untitled0.ipynb",
      "provenance": [],
      "collapsed_sections": [],
      "authorship_tag": "ABX9TyPqyJFVFIqDxrFVY1/7WG14",
      "include_colab_link": true
    },
    "kernelspec": {
      "name": "python3",
      "display_name": "Python 3"
    },
    "language_info": {
      "name": "python"
    }
  },
  "cells": [
    {
      "cell_type": "markdown",
      "metadata": {
        "id": "view-in-github",
        "colab_type": "text"
      },
      "source": [
        "<a href=\"https://colab.research.google.com/github/umeshbagade/M-L/blob/main/numpy_ex.ipynb\" target=\"_parent\"><img src=\"https://colab.research.google.com/assets/colab-badge.svg\" alt=\"Open In Colab\"/></a>"
      ]
    },
    {
      "cell_type": "code",
      "execution_count": 15,
      "metadata": {
        "colab": {
          "base_uri": "https://localhost:8080/"
        },
        "id": "mZf_kqWCED-o",
        "outputId": "9f47d8d2-15d5-43a9-a350-707dda23507c"
      },
      "outputs": [
        {
          "output_type": "stream",
          "name": "stdout",
          "text": [
            "[1 2 3 4 5]\n",
            "[2 3 4]\n",
            "1.19.5\n",
            "<class 'numpy.ndarray'>\n"
          ]
        }
      ],
      "source": [
        "import numpy\n",
        "arr = numpy.array([1,2,3,4,5])\n",
        "print(arr)\n",
        "print(arr[1:4])\n",
        "print(numpy.__version__)\n",
        "print(type(arr))"
      ]
    },
    {
      "cell_type": "code",
      "source": [
        "import numpy as np\n",
        "arr = np.array(23)  #0 dimentional array\n",
        "arr1dim = np.array([1,23,4])\n",
        "print(arr,arr1dim)\n",
        "\n",
        "\n",
        "# 2 dimentional array\n",
        "dim = np.array([[1,2],[1,2]])\n",
        "print(f\"printing 2 dimentional array : {dim} and bro this is f string \")\n",
        "\n",
        "\n",
        "# dealing with 3 dimentional arrays \n",
        "dim3  = np.array([[[1,2,3],[1,2,3]],[[1,2,3],[1,2,3]]])\n",
        "print(f\" now printing 3 dimentional array\\n:{dim3}\")\n",
        "\n",
        "#printing dimentions\n",
        "print(arr.ndim)\n",
        "print(dim.ndim)\n",
        "print(dim3.ndim)\n",
        "\n",
        "\n",
        "\n",
        "dim5arr = np.array([1,2,3,4,5],ndmin=5)\n",
        "print(dim5arr)\n",
        "print(f'number of dimentions in array {dim5arr.ndim}')\n",
        "print(dim5arr[0][0][0][0][2])"
      ],
      "metadata": {
        "colab": {
          "base_uri": "https://localhost:8080/"
        },
        "id": "3v99EWNpHDT-",
        "outputId": "8e331abc-f201-40ae-f0b4-6ab706e18564"
      },
      "execution_count": 42,
      "outputs": [
        {
          "output_type": "stream",
          "name": "stdout",
          "text": [
            "23 [ 1 23  4]\n",
            "printing 2 dimentional array : [[1 2]\n",
            " [1 2]] and bro this is f string \n",
            " now printing 3 dimentional array\n",
            ":[[[1 2 3]\n",
            "  [1 2 3]]\n",
            "\n",
            " [[1 2 3]\n",
            "  [1 2 3]]]\n",
            "0\n",
            "2\n",
            "3\n",
            "[[[[[1 2 3 4 5]]]]]\n",
            "number of dimentions in array 5\n",
            "3\n"
          ]
        }
      ]
    },
    {
      "cell_type": "code",
      "source": [
        "#Arithmetic\n",
        "x = np.array([[1,2],[3,4]])\n",
        "y = np.array([[1,2],[3,4]])\n",
        "print(f\"X + Y =\\n{np.add(x,y)}\")\n",
        "\n",
        "print(f\"X - Y =\\n{np.subtract(x,y)}\")\n",
        "\n",
        "print(f\"X * Y =\\n{np.multiply(x,y)}\")\n",
        "\n",
        "print(f\"X . Y =\\n{np.dot(x,y)}\")"
      ],
      "metadata": {
        "colab": {
          "base_uri": "https://localhost:8080/"
        },
        "id": "DTjgl1MBKt9n",
        "outputId": "7da6c238-b097-46a2-a7a0-81d11a86b378"
      },
      "execution_count": 70,
      "outputs": [
        {
          "output_type": "stream",
          "name": "stdout",
          "text": [
            "X + Y =\n",
            "[[2 4]\n",
            " [6 8]]\n",
            "X - Y =\n",
            "[[0 0]\n",
            " [0 0]]\n",
            "X * Y =\n",
            "[[ 1  4]\n",
            " [ 9 16]]\n",
            "X . Y =\n",
            "[[ 7 10]\n",
            " [15 22]]\n"
          ]
        }
      ]
    },
    {
      "cell_type": "code",
      "source": [
        "a = np.array([[1,2,3],[4,5,6]])\n",
        "b = np.array([[7,8],[9,10],[11,12]])\n",
        "c = np.dot(a,b) # giving similar value as c= a.dot(b)\n",
        "print(\"X . Y = \\n\",a.dot(b))\n",
        "\n",
        "#now printing shape\n",
        "print(f\"{a.shape} . {b.shape} = {c.shape}\")"
      ],
      "metadata": {
        "id": "M11-GnsGP2mc",
        "outputId": "13422157-a336-462e-f720-69d3780db492",
        "colab": {
          "base_uri": "https://localhost:8080/"
        }
      },
      "execution_count": 81,
      "outputs": [
        {
          "output_type": "stream",
          "name": "stdout",
          "text": [
            "X . Y = \n",
            " [[ 58  64]\n",
            " [139 154]]\n",
            "(2, 3) . (3, 2) = (2, 2)\n"
          ]
        }
      ]
    },
    {
      "cell_type": "code",
      "source": [
        "x = np.array([[1,2],[3,4]])\n",
        "\n",
        "print(np.sum(x))\n",
        "print(np.sum(x,axis=0)) #row addition\n",
        "print(np.sum(x,axis=1)) #column addition"
      ],
      "metadata": {
        "id": "fYaD3ZrRRBnb",
        "outputId": "dcf09e69-6370-43c4-b576-7dd7e848aaf7",
        "colab": {
          "base_uri": "https://localhost:8080/"
        }
      },
      "execution_count": 86,
      "outputs": [
        {
          "output_type": "stream",
          "name": "stdout",
          "text": [
            "10\n",
            "[4 6]\n",
            "[3 7]\n"
          ]
        }
      ]
    }
  ]
}